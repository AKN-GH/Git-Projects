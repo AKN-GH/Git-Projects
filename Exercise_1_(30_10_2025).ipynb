{
  "nbformat": 4,
  "nbformat_minor": 0,
  "metadata": {
    "colab": {
      "provenance": [],
      "authorship_tag": "ABX9TyPilBK6BeR8cjs6MRQMn9KN",
      "include_colab_link": true
    },
    "kernelspec": {
      "name": "python3",
      "display_name": "Python 3"
    },
    "language_info": {
      "name": "python"
    }
  },
  "cells": [
    {
      "cell_type": "markdown",
      "metadata": {
        "id": "view-in-github",
        "colab_type": "text"
      },
      "source": [
        "<a href=\"https://colab.research.google.com/github/AKN-GH/Git-Projects/blob/main/Exercise_1_(30_10_2025).ipynb\" target=\"_parent\"><img src=\"https://colab.research.google.com/assets/colab-badge.svg\" alt=\"Open In Colab\"/></a>"
      ]
    },
    {
      "cell_type": "markdown",
      "source": [
        "Задание 1\n"
      ],
      "metadata": {
        "id": "n95WYTTU6yhy"
      }
    },
    {
      "cell_type": "code",
      "execution_count": null,
      "metadata": {
        "colab": {
          "base_uri": "https://localhost:8080/"
        },
        "id": "5pLqhy1vovDw",
        "outputId": "f14a97b4-0dd4-4b56-a04d-26498fc8452c"
      },
      "outputs": [
        {
          "output_type": "stream",
          "name": "stdout",
          "text": [
            "Hello World\n"
          ]
        }
      ],
      "source": [
        "print ('Hello World')"
      ]
    },
    {
      "cell_type": "markdown",
      "source": [
        "Задание 2"
      ],
      "metadata": {
        "id": "B3td1Y_VrsN9"
      }
    },
    {
      "cell_type": "code",
      "source": [
        "print ('4','8','15','16','23','42' )"
      ],
      "metadata": {
        "colab": {
          "base_uri": "https://localhost:8080/"
        },
        "id": "mm118Zh_rEQt",
        "outputId": "5b350605-56c2-4273-c3c4-5735ce61a0d6"
      },
      "execution_count": null,
      "outputs": [
        {
          "output_type": "stream",
          "name": "stdout",
          "text": [
            "4 8 15 16 23 42\n"
          ]
        }
      ]
    },
    {
      "cell_type": "markdown",
      "source": [
        "Задание 3"
      ],
      "metadata": {
        "id": "AAniywDtvz3_"
      }
    },
    {
      "cell_type": "code",
      "source": [
        "print ('*','**','***','****','*****','******','*******',sep='\\n')"
      ],
      "metadata": {
        "colab": {
          "base_uri": "https://localhost:8080/"
        },
        "id": "GDQ0wOplsec2",
        "outputId": "825a0db3-9258-49ca-89bf-67e634a6f6b7"
      },
      "execution_count": null,
      "outputs": [
        {
          "output_type": "stream",
          "name": "stdout",
          "text": [
            "*\n",
            "**\n",
            "***\n",
            "****\n",
            "*****\n",
            "******\n",
            "*******\n"
          ]
        }
      ]
    },
    {
      "cell_type": "markdown",
      "source": [
        "Задание\n",
        " 4"
      ],
      "metadata": {
        "id": "shODhquazef_"
      }
    },
    {
      "cell_type": "code",
      "source": [
        "print ('Отчёт о доходах:', '1 квартал: 1200000 руб.','2 квартал: 1350000 руб.','3 квартал: 1280000 руб.','4 квартал: 1420000 руб.', sep='\\n')"
      ],
      "metadata": {
        "colab": {
          "base_uri": "https://localhost:8080/"
        },
        "id": "5oNLTQg_v7D_",
        "outputId": "58f1e805-a912-4f64-f032-899b4c886444"
      },
      "execution_count": null,
      "outputs": [
        {
          "output_type": "stream",
          "name": "stdout",
          "text": [
            "Отчёт о доходах:\n",
            "1 квартал: 1200000 руб.\n",
            "2 квартал: 1350000 руб.\n",
            "3 квартал: 1280000 руб.\n",
            "4 квартал: 1420000 руб.\n"
          ]
        }
      ]
    },
    {
      "cell_type": "markdown",
      "source": [],
      "metadata": {
        "id": "Mw4fKRM7zZyw"
      }
    },
    {
      "cell_type": "markdown",
      "source": [
        "Задание 5\n"
      ],
      "metadata": {
        "id": "9RQw4PZLzpsf"
      }
    },
    {
      "cell_type": "code",
      "source": [
        "analytics_name= input()\n",
        "print ('Добро пожаловать в команду,',analytics_name, '!')"
      ],
      "metadata": {
        "colab": {
          "base_uri": "https://localhost:8080/"
        },
        "id": "PGSWFHoCx5I_",
        "outputId": "4ec059dc-d1d9-4af1-841c-2f1930d7d4a3"
      },
      "execution_count": null,
      "outputs": [
        {
          "output_type": "stream",
          "name": "stdout",
          "text": [
            "Влад\n",
            "Добро пожаловать в команду, Влад !\n"
          ]
        }
      ]
    },
    {
      "cell_type": "markdown",
      "source": [
        "Задание 6\n"
      ],
      "metadata": {
        "id": "kbe8mxbr2N0g"
      }
    },
    {
      "cell_type": "code",
      "source": [
        "company_name=input ()\n",
        "print (company_name,'- лидер рынка !' )"
      ],
      "metadata": {
        "colab": {
          "base_uri": "https://localhost:8080/"
        },
        "id": "tKNTUNuQzwLn",
        "outputId": "961aef17-4230-4dc4-c27f-5bfa5ac2aef5"
      },
      "execution_count": null,
      "outputs": [
        {
          "output_type": "stream",
          "name": "stdout",
          "text": [
            "Сбер\n",
            "Сбер - лидер рынка !\n"
          ]
        }
      ]
    },
    {
      "cell_type": "markdown",
      "source": [],
      "metadata": {
        "id": "5BgRSdCD-FHJ"
      }
    },
    {
      "cell_type": "markdown",
      "source": [],
      "metadata": {
        "id": "UwdUT5dw-nWh"
      }
    },
    {
      "cell_type": "markdown",
      "source": [
        "Задание 7\n"
      ],
      "metadata": {
        "id": "3yupj1XA-0yb"
      }
    },
    {
      "cell_type": "code",
      "source": [
        "print ('Введите название набора данных')\n",
        "dataset_name= input()\n",
        "print ('Введите количество строк')\n",
        "raw_count=input()\n",
        "print ('Введите число столбцов')\n",
        "number_of_colums=input()\n",
        "print(dataset_name, raw_count, number_of_colums, sep='\\n')"
      ],
      "metadata": {
        "id": "GhAIw8Vu2RD4",
        "colab": {
          "base_uri": "https://localhost:8080/"
        },
        "outputId": "c1d0fbfc-f358-4e49-ca4c-e5f82bb1adc7"
      },
      "execution_count": null,
      "outputs": [
        {
          "output_type": "stream",
          "name": "stdout",
          "text": [
            "Введите название набора данных\n",
            "Sales Q1 \n",
            "Введите количество строк\n",
            "1000\n",
            "Введите число столбцов\n",
            "8\n",
            "Sales Q1 \n",
            "1000\n",
            "8\n"
          ]
        }
      ]
    },
    {
      "cell_type": "markdown",
      "source": [
        "Задание 8"
      ],
      "metadata": {
        "id": "_c4vmyfSKzW7"
      }
    },
    {
      "cell_type": "code",
      "source": [
        "list_1=input()\n",
        "list_2=input()\n",
        "list_3=input()\n",
        "print(list_3, list_2, list_1, sep='\\n')"
      ],
      "metadata": {
        "colab": {
          "base_uri": "https://localhost:8080/"
        },
        "id": "WErnNz67JckT",
        "outputId": "b0f405e8-c306-4c7b-ccc8-004c75324217"
      },
      "execution_count": null,
      "outputs": [
        {
          "output_type": "stream",
          "name": "stdout",
          "text": [
            "Продажи за январь\n",
            "Продажи за февраль\n",
            "Продажи за март\n",
            "Продажи за март\n",
            "Продажи за февраль\n",
            "Продажи за январь\n"
          ]
        }
      ]
    },
    {
      "cell_type": "markdown",
      "source": [
        "Задание 9\n"
      ],
      "metadata": {
        "id": "ZXEfNzL_K6Pr"
      }
    },
    {
      "cell_type": "code",
      "source": [
        "print ('Введите базовую цену')\n",
        "base_price=float(input())\n",
        "print ('Введите процент прироста цены')\n",
        "grows_percent=float(input())\n",
        "new_price=base_price*(1+grows_percent/100)\n",
        "delta=new_price-base_price\n",
        "print ('new_price =',new_price)\n",
        "print ('delta =',delta)"
      ],
      "metadata": {
        "colab": {
          "base_uri": "https://localhost:8080/"
        },
        "id": "2Z7R1X9YG_Ly",
        "outputId": "6d74c3eb-e885-4a98-d88a-41cdbf2dfdeb"
      },
      "execution_count": null,
      "outputs": [
        {
          "output_type": "stream",
          "name": "stdout",
          "text": [
            "Введите базовую цену\n",
            "100\n",
            "Введите процент прироста цены\n",
            "20\n",
            "new_price = 120.0\n",
            "delta = 20.0\n"
          ]
        }
      ]
    },
    {
      "cell_type": "markdown",
      "source": [
        "Задание 10"
      ],
      "metadata": {
        "id": "dJ1f4ZGCG4Sr"
      }
    },
    {
      "cell_type": "code",
      "source": [
        "print ('Северный', 'Центральный', 'Южный', sep='***')"
      ],
      "metadata": {
        "colab": {
          "base_uri": "https://localhost:8080/"
        },
        "id": "6r4wUI5SEUr6",
        "outputId": "aae244c3-3652-4518-9ca1-d1990de7252c"
      },
      "execution_count": null,
      "outputs": [
        {
          "output_type": "stream",
          "name": "stdout",
          "text": [
            "Северный***Центральный***Южный\n"
          ]
        }
      ]
    },
    {
      "cell_type": "markdown",
      "source": [
        " Задание 11\n"
      ],
      "metadata": {
        "id": "MoJ_nKgEMl7r"
      }
    },
    {
      "cell_type": "code",
      "source": [
        "analytics_name=input()\n",
        "print(\"Подключение установлено. Добро пожаловать,\", analytics_name, end='!')"
      ],
      "metadata": {
        "colab": {
          "base_uri": "https://localhost:8080/"
        },
        "id": "49ru2v5pODqE",
        "outputId": "5577f5f7-88a9-43b7-94ba-3a502819079e"
      },
      "execution_count": null,
      "outputs": [
        {
          "output_type": "stream",
          "name": "stdout",
          "text": [
            "Влад\n",
            "Подключение установлено. Добро пожаловать, Влад!"
          ]
        }
      ]
    },
    {
      "cell_type": "markdown",
      "source": [
        "Задание 12\n"
      ],
      "metadata": {
        "id": "cjKYAfk4PHjE"
      }
    },
    {
      "cell_type": "code",
      "source": [
        "print ('Введите разделитель')\n",
        "symbol_s= input()\n",
        "print ('Введите название Товара 1')\n",
        "product_1=input()\n",
        "print ('Введите название Товара 2')\n",
        "product_2=input()\n",
        "print ('Введите название Товара 3')\n",
        "product_3=input()\n",
        "print(product_1, end=symbol_s)\n",
        "print (product_2, end=symbol_s)\n",
        "print (product_3, end=symbol_s)"
      ],
      "metadata": {
        "id": "wFCaJC0IOo_D",
        "colab": {
          "base_uri": "https://localhost:8080/"
        },
        "outputId": "607c9fab-1735-4600-ce39-0d7982907757"
      },
      "execution_count": null,
      "outputs": [
        {
          "output_type": "stream",
          "name": "stdout",
          "text": [
            "Введите разделитель\n",
            "|\n",
            "Введите название Товара 1\n",
            "Молоко\n",
            "Введите название Товара 2\n",
            "Хлеб\n",
            "Введите название Товара 3\n",
            "Сыр\n",
            "Молоко|Хлеб|Сыр|"
          ]
        }
      ]
    },
    {
      "cell_type": "markdown",
      "source": [
        "Задание 13\n"
      ],
      "metadata": {
        "id": "RFXRlKWWua_R"
      }
    },
    {
      "cell_type": "code",
      "source": [
        "print ('Введите значение')\n",
        "value_str= float(input())\n",
        "value_str=int(value_str)\n",
        "print ('integer_part=',value_str)"
      ],
      "metadata": {
        "colab": {
          "base_uri": "https://localhost:8080/"
        },
        "id": "1BiiG8jFxADg",
        "outputId": "35403c87-567c-4b25-9b62-5a52ecc81174"
      },
      "execution_count": null,
      "outputs": [
        {
          "output_type": "stream",
          "name": "stdout",
          "text": [
            "Введите значение\n",
            "42.7\n",
            "integer_part= 42\n"
          ]
        }
      ]
    },
    {
      "cell_type": "markdown",
      "source": [
        "Задание 14\n"
      ],
      "metadata": {
        "id": "DA7Ob6i50Jt3"
      }
    },
    {
      "cell_type": "code",
      "source": [
        "print ('Введите количество заказов предыдущего дня')\n",
        "orders_yesterday=int(input())\n",
        "print ('Введите плановый показатель')\n",
        "plan=int(input())\n",
        "abs_diff=abs(orders_yesterday-plan)\n",
        "print('Абсолютное отклонение от плана равняется', abs_diff)"
      ],
      "metadata": {
        "colab": {
          "base_uri": "https://localhost:8080/"
        },
        "id": "8zamV5jf0I1b",
        "outputId": "3c842200-2647-47fc-a053-d48199c5e015"
      },
      "execution_count": null,
      "outputs": [
        {
          "output_type": "stream",
          "name": "stdout",
          "text": [
            "Введите количество заказов предыдущего дня\n",
            "10\n",
            "Введите плановый показатель\n",
            "20\n",
            "Абсолютное отклонение от плана равняется 10\n"
          ]
        }
      ]
    },
    {
      "cell_type": "markdown",
      "source": [
        "Задание 15\n",
        "\n",
        "\n",
        "\n",
        "\n",
        "```\n",
        "\n",
        "```\n",
        "\n"
      ],
      "metadata": {
        "id": "Z0bwkyvP2s9F"
      }
    },
    {
      "cell_type": "code",
      "source": [
        "print ('Введите целое число #1')\n",
        "dig_1=int(input())\n",
        "print ('Введите целое число #2')\n",
        "dig_2=int(input())\n",
        "print ('Введите целое число #3')\n",
        "dig_3=int(input())\n",
        "print ('Введите целое число #4')\n",
        "dig_4=int(input())\n",
        "print ('Введите целое число #5')\n",
        "dig_5=int(input())\n",
        "digitsline = [dig_1, dig_2, dig_3, dig_4, dig_5]\n",
        "max_dig=max(digitsline)\n",
        "min_dig=min(digitsline)\n",
        "print('Наименьшее число =', min_dig)\n",
        "print('Наибольшее число =', max_dig)"
      ],
      "metadata": {
        "id": "jc8pRi5c2wII",
        "colab": {
          "base_uri": "https://localhost:8080/"
        },
        "outputId": "c28338d8-f743-49a0-fc70-9225f098360e"
      },
      "execution_count": null,
      "outputs": [
        {
          "output_type": "stream",
          "name": "stdout",
          "text": [
            "Введите целое число #1\n",
            "1\n",
            "Введите целое число #2\n",
            "2\n",
            "Введите целое число #3\n",
            "3\n",
            "Введите целое число #4\n",
            "4\n",
            "Введите целое число #5\n",
            "5\n",
            "Наименьшее число = 1\n",
            "Наибольшее число = 5\n"
          ]
        }
      ]
    },
    {
      "cell_type": "markdown",
      "source": [
        "Задание 16\n"
      ],
      "metadata": {
        "id": "NJ2Ejl49HG-2"
      }
    },
    {
      "cell_type": "code",
      "source": [
        "print ('Введите имя пользователя')\n",
        "name=str(input())\n",
        "print ('Введите фамилию пользователя')\n",
        "surname=str(input())\n",
        "s=str('!')\n",
        "print('Привет,', name+' '+surname+s,'Вы только что начали изучать Python')"
      ],
      "metadata": {
        "colab": {
          "base_uri": "https://localhost:8080/"
        },
        "id": "bWwkjWotHGjj",
        "outputId": "573a5eab-753f-4a5e-ecc6-b6b49bcd8011"
      },
      "execution_count": null,
      "outputs": [
        {
          "output_type": "stream",
          "name": "stdout",
          "text": [
            "Введите имя пользователя\n",
            "Антон\n",
            "Введите фамилию пользователя\n",
            "Иванов\n",
            "Привет, Антон Иванов! Вы только что начали изучать Python\n"
          ]
        }
      ]
    },
    {
      "cell_type": "markdown",
      "source": [
        "Задание 17\n"
      ],
      "metadata": {
        "id": "dKejkTr1LYos"
      }
    },
    {
      "cell_type": "code",
      "source": [
        "print ('Введите первую половину фразы')\n",
        "fh_ph=str(input())\n",
        "print ('Введите вторую половину фразы')\n",
        "sh_ph=str(input())\n",
        "b=str('\"')\n",
        "s=str(', ')\n",
        "d=str('.')\n",
        "print(b+fh_ph+s+sh_ph+d+b)"
      ],
      "metadata": {
        "colab": {
          "base_uri": "https://localhost:8080/"
        },
        "id": "VPAAanC-LbUI",
        "outputId": "ef582150-5cb9-41df-aa3c-5d676d933bc4"
      },
      "execution_count": null,
      "outputs": [
        {
          "output_type": "stream",
          "name": "stdout",
          "text": [
            "Введите первую половину фразы\n",
            "Каждый в этой стране должен научиться программировать\n",
            "Введите вторую половину фразы\n",
            "потому что это учит думать\n",
            "\"Каждый в этой стране должен научиться программировать, потому что это учит думать.\"\n"
          ]
        }
      ]
    },
    {
      "cell_type": "markdown",
      "source": [
        "Задание 18"
      ],
      "metadata": {
        "id": "VimwFygCNsrH"
      }
    },
    {
      "cell_type": "code",
      "source": [
        "print ('Введите сумму покупки')\n",
        "inp=float(input())\n",
        "print (int>1000)"
      ],
      "metadata": {
        "colab": {
          "base_uri": "https://localhost:8080/"
        },
        "id": "l283osuONwbK",
        "outputId": "a8c502a9-cff8-46fe-c79c-328b22f8b278"
      },
      "execution_count": null,
      "outputs": [
        {
          "output_type": "stream",
          "name": "stdout",
          "text": [
            "Введите сумму покупки\n",
            "999\n",
            "False\n"
          ]
        }
      ]
    },
    {
      "cell_type": "markdown",
      "source": [
        "Задание 19\n"
      ],
      "metadata": {
        "id": "CSHC2e9fQyWD"
      }
    },
    {
      "cell_type": "code",
      "source": [
        "print ('Введите возраст полных лет')\n",
        "age=int(input())\n",
        "print (age>=18)"
      ],
      "metadata": {
        "colab": {
          "base_uri": "https://localhost:8080/"
        },
        "id": "5D2r1F3hQ1vl",
        "outputId": "eb705ed9-ef96-4394-c067-037c33bc426f"
      },
      "execution_count": null,
      "outputs": [
        {
          "output_type": "stream",
          "name": "stdout",
          "text": [
            "Введите возраст полных лет\n",
            "16\n",
            "False\n"
          ]
        }
      ]
    },
    {
      "cell_type": "markdown",
      "source": [
        "Задание 20\n"
      ],
      "metadata": {
        "id": "A_KhrIVoTKqB"
      }
    },
    {
      "cell_type": "code",
      "source": [
        "print ('Введите объем данных между потоками (МБ)')\n",
        "s=float(input())\n",
        "print ('Введите скорость первого потока (МБ/ч)')\n",
        "v_1=float(input())\n",
        "print ('Введите скорость второго потока (МБ/ч)')\n",
        "v_2=float(input())\n",
        "t=s/(v_1+v_2)\n",
        "print ('Потоки достигнут одного и того же объёма данных через', t, 'часов')"
      ],
      "metadata": {
        "colab": {
          "base_uri": "https://localhost:8080/"
        },
        "outputId": "9978d3f1-89c3-4bce-d02d-e88ccaee9883",
        "id": "UIah6RuoVzd_"
      },
      "execution_count": null,
      "outputs": [
        {
          "output_type": "stream",
          "name": "stdout",
          "text": [
            "Введите объем данных между потоками (МБ)\n",
            "500\n",
            "Введите скорость первого потока (МБ/ч)\n",
            "50\n",
            "Введите скорость второго потока (МБ/ч)\n",
            "70\n",
            "Потоки достигнут одного и того же объёма данных через 4.166666666666667 часов\n"
          ]
        }
      ]
    },
    {
      "cell_type": "markdown",
      "source": [],
      "metadata": {
        "id": "_rAqJAh6WFZZ"
      }
    },
    {
      "cell_type": "markdown",
      "source": [
        "Задание 21"
      ],
      "metadata": {
        "id": "7qbjKuN6WT8T"
      }
    },
    {
      "cell_type": "code",
      "source": [
        "print ('Введите длину первого катета (мм)')\n",
        "a=float(input())\n",
        "print ('Введите длину второго катета (мм)')\n",
        "b=float(input())\n",
        "s=(a*b)/2\n",
        "print ('Площадь треугольника =', s, 'мм')"
      ],
      "metadata": {
        "colab": {
          "base_uri": "https://localhost:8080/"
        },
        "id": "a5812N6kVVUV",
        "outputId": "05965280-a41f-4e95-cdf3-df556d87ce4c"
      },
      "execution_count": null,
      "outputs": [
        {
          "output_type": "stream",
          "name": "stdout",
          "text": [
            "Введите длину первого катета (мм)\n",
            "443\n",
            "Введите длину второго катета (мм)\n",
            "390\n",
            "Площадь треугольника = 86385.0 мм\n"
          ]
        }
      ]
    },
    {
      "cell_type": "markdown",
      "source": [],
      "metadata": {
        "id": "_LQTW-dFVVBJ"
      }
    },
    {
      "cell_type": "markdown",
      "source": [
        "Задание 22\n"
      ],
      "metadata": {
        "id": "5GGLFN2WYjLv"
      }
    },
    {
      "cell_type": "code",
      "source": [
        "print ('Введите температуру в градусах по шкале Фаренгейта')\n",
        "t_f=float(input())\n",
        "t_c=5/9*(t_f-32)\n",
        "print('Температура в градусах по шкале Цельсия =', t_c)"
      ],
      "metadata": {
        "colab": {
          "base_uri": "https://localhost:8080/"
        },
        "id": "K2Zu7fZnYtOe",
        "outputId": "d8045570-e946-4e40-e40d-ea766c8901b3"
      },
      "execution_count": null,
      "outputs": [
        {
          "output_type": "stream",
          "name": "stdout",
          "text": [
            "Введите температуру в градусах по шкале Фаренгейта\n",
            "450.55\n",
            "Температура в градусах по шкале Цельсия = 232.5277777777778\n"
          ]
        }
      ]
    },
    {
      "cell_type": "markdown",
      "source": [
        "Задание 23"
      ],
      "metadata": {
        "id": "kiVYAxTRZtfV"
      }
    },
    {
      "cell_type": "code",
      "source": [
        "import math\n",
        "print ('Введите выручку за день')\n",
        "revenue_str=float(input())\n",
        "revenue_str=(math.floor(revenue_str))\n",
        "print ('Введите имя курьера')\n",
        "courier_name=str(input())\n",
        "report=(math.floor(revenue_str*0.01))\n",
        "print ('Курьер',courier_name,'получит бонус', report, 'р.')"
      ],
      "metadata": {
        "colab": {
          "base_uri": "https://localhost:8080/"
        },
        "id": "46hDStRAZw3T",
        "outputId": "6df865b3-3d1e-4a6f-8731-634cdc5b859e"
      },
      "execution_count": null,
      "outputs": [
        {
          "output_type": "stream",
          "name": "stdout",
          "text": [
            "Введите выручку за день\n",
            "438746.78\n",
            "Введите имя курьера\n",
            "Антон\n",
            "Курьер Антон получит бонус 4387 р.\n"
          ]
        }
      ]
    }
  ]
}