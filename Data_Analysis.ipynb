{
  "nbformat": 4,
  "nbformat_minor": 0,
  "metadata": {
    "colab": {
      "provenance": [],
      "authorship_tag": "ABX9TyM0RiL+SaQsWilS/+LrihDl",
      "include_colab_link": true
    },
    "kernelspec": {
      "name": "python3",
      "display_name": "Python 3"
    },
    "language_info": {
      "name": "python"
    }
  },
  "cells": [
    {
      "cell_type": "markdown",
      "metadata": {
        "id": "view-in-github",
        "colab_type": "text"
      },
      "source": [
        "<a href=\"https://colab.research.google.com/github/AKN-GH/Git-Projects/blob/main/Data_Analysis.ipynb\" target=\"_parent\"><img src=\"https://colab.research.google.com/assets/colab-badge.svg\" alt=\"Open In Colab\"/></a>"
      ]
    },
    {
      "cell_type": "markdown",
      "source": [],
      "metadata": {
        "id": "mP3XKHBQ-XgD"
      }
    },
    {
      "cell_type": "code",
      "source": [
        "print (\"Это моё первое кодовое поле\")"
      ],
      "metadata": {
        "colab": {
          "base_uri": "https://localhost:8080/"
        },
        "id": "juqZvjGeUBLF",
        "outputId": "b4f17948-b95e-4487-b881-fbd3af9f73be"
      },
      "execution_count": null,
      "outputs": [
        {
          "output_type": "stream",
          "name": "stdout",
          "text": [
            "Это моё первое кодовое поле\n"
          ]
        }
      ]
    },
    {
      "cell_type": "markdown",
      "source": [
        "Это мое первое текстовое поле\n"
      ],
      "metadata": {
        "id": "D8lOQvhoUqod"
      }
    },
    {
      "cell_type": "markdown",
      "source": [],
      "metadata": {
        "id": "ln5tle15UOIN"
      }
    },
    {
      "cell_type": "markdown",
      "source": [],
      "metadata": {
        "id": "RjNlaDgzUQv3"
      }
    }
  ]
}